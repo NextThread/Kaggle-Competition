{
 "cells": [
  {
   "cell_type": "code",
   "execution_count": 1,
   "id": "6ae29262",
   "metadata": {
    "execution": {
     "iopub.execute_input": "2023-05-11T08:04:10.946348Z",
     "iopub.status.busy": "2023-05-11T08:04:10.945137Z",
     "iopub.status.idle": "2023-05-11T08:04:14.807422Z",
     "shell.execute_reply": "2023-05-11T08:04:14.806421Z"
    },
    "papermill": {
     "duration": 3.873741,
     "end_time": "2023-05-11T08:04:14.809995",
     "exception": false,
     "start_time": "2023-05-11T08:04:10.936254",
     "status": "completed"
    },
    "tags": []
   },
   "outputs": [],
   "source": [
    "import os\n",
    "import warnings\n",
    "warnings.filterwarnings('ignore')\n",
    "\n",
    "import math\n",
    "import numpy as np\n",
    "import pandas as pd\n",
    "pd.set_option('display.max_rows', 50)\n",
    "\n",
    "from pathlib import Path\n",
    "import random\n",
    "\n",
    "from plotnine import * \n",
    "\n",
    "from sklearn.inspection import permutation_importance\n",
    "from sklearn.model_selection import KFold, StratifiedKFold, train_test_split\n",
    "from sklearn.metrics import mean_absolute_error"
   ]
  },
  {
   "cell_type": "code",
   "execution_count": 2,
   "id": "8d0bc76a",
   "metadata": {
    "execution": {
     "iopub.execute_input": "2023-05-11T08:04:14.822953Z",
     "iopub.status.busy": "2023-05-11T08:04:14.821549Z",
     "iopub.status.idle": "2023-05-11T08:04:30.216589Z",
     "shell.execute_reply": "2023-05-11T08:04:30.214875Z"
    },
    "papermill": {
     "duration": 15.404077,
     "end_time": "2023-05-11T08:04:30.219442",
     "exception": false,
     "start_time": "2023-05-11T08:04:14.815365",
     "status": "completed"
    },
    "tags": []
   },
   "outputs": [],
   "source": [
    "%%capture\n",
    "!pip install flaml"
   ]
  },
  {
   "cell_type": "code",
   "execution_count": 3,
   "id": "378ffcd2",
   "metadata": {
    "execution": {
     "iopub.execute_input": "2023-05-11T08:04:30.232344Z",
     "iopub.status.busy": "2023-05-11T08:04:30.231632Z",
     "iopub.status.idle": "2023-05-11T08:04:33.978405Z",
     "shell.execute_reply": "2023-05-11T08:04:33.977413Z"
    },
    "papermill": {
     "duration": 3.756655,
     "end_time": "2023-05-11T08:04:33.981272",
     "exception": false,
     "start_time": "2023-05-11T08:04:30.224617",
     "status": "completed"
    },
    "tags": []
   },
   "outputs": [],
   "source": [
    "from flaml import AutoML\n",
    "\n",
    "%matplotlib inline\n",
    "%config InlineBackend.figure_format='retina'\n",
    "\n",
    "INPUT_DIR = Path('/kaggle/input/playground-series-s3e14/')"
   ]
  },
  {
   "cell_type": "code",
   "execution_count": 4,
   "id": "fe98a8f1",
   "metadata": {
    "execution": {
     "iopub.execute_input": "2023-05-11T08:04:33.993049Z",
     "iopub.status.busy": "2023-05-11T08:04:33.992668Z",
     "iopub.status.idle": "2023-05-11T08:04:33.999079Z",
     "shell.execute_reply": "2023-05-11T08:04:33.998009Z"
    },
    "papermill": {
     "duration": 0.014928,
     "end_time": "2023-05-11T08:04:34.001350",
     "exception": false,
     "start_time": "2023-05-11T08:04:33.986422",
     "status": "completed"
    },
    "tags": []
   },
   "outputs": [],
   "source": [
    "TARGET_NAME = 'yield'\n",
    "\n",
    "# nested CV to ensure true out of fold metrics\n",
    "N_OUTER_FOLDS = 9\n",
    "N_FOLDS = 10\n",
    "N_REPEATS = 10\n",
    "\n",
    "\n",
    "FIRST_TIME_BUDGET = 1 #1200  # Exploration Budget for first fit\n",
    "MIN_TIME_BUDGET = 1 ##10     # subseqent fit times are reduced\n",
    "\n",
    "INCLUDE_ORIGINAL = True\n",
    "\n",
    "RANDOM_STATE = 2112 # overture...\n",
    "\n",
    "np.random.seed(RANDOM_STATE)"
   ]
  },
  {
   "cell_type": "code",
   "execution_count": 5,
   "id": "4c1f54e5",
   "metadata": {
    "execution": {
     "iopub.execute_input": "2023-05-11T08:04:34.014026Z",
     "iopub.status.busy": "2023-05-11T08:04:34.013612Z",
     "iopub.status.idle": "2023-05-11T08:04:34.193283Z",
     "shell.execute_reply": "2023-05-11T08:04:34.192114Z"
    },
    "papermill": {
     "duration": 0.1893,
     "end_time": "2023-05-11T08:04:34.196108",
     "exception": false,
     "start_time": "2023-05-11T08:04:34.006808",
     "status": "completed"
    },
    "tags": []
   },
   "outputs": [],
   "source": [
    "test_data = pd.read_csv(INPUT_DIR / 'test.csv')\n",
    "test_data['data_type'] = 0\n",
    "\n",
    "train_data = pd.read_csv(INPUT_DIR / 'train.csv')\n",
    "train_data['data_type'] = 0\n",
    "\n",
    "if INCLUDE_ORIGINAL:\n",
    "    original_data = pd.read_csv('/kaggle/input/wild-blueberry-yield-prediction-dataset/WildBlueberryPollinationSimulationData.csv')\n",
    "    original_data['data_type'] = 1\n",
    "    train_data = pd.concat([train_data, original_data.drop(columns=['Row#'])]).reset_index(drop=True)\n",
    "\n",
    "\n",
    "features = (['MinOfLowerTRange', 'RainingDays', 'fruitmass', 'fruitset', 'seeds', 'bumbles', 'clonesize']\n",
    "            +  ([] if INCLUDE_ORIGINAL else ['data_type']))\n",
    "\n",
    "def fe(df):\n",
    "    # a couple of rows seem odd \n",
    "    # probably not enough to make much of a difference\n",
    "    df['RainingDays'] = np.select(\n",
    "        condlist=[\n",
    "            df['RainingDays'] == 26, \n",
    "            df['RainingDays'] == 33],\n",
    "        choicelist= [24, 34],\n",
    "        default=df['RainingDays'])\n",
    "    \n",
    "fe(train_data)\n",
    "fe(test_data)"
   ]
  },
  {
   "cell_type": "code",
   "execution_count": 6,
   "id": "6a00d543",
   "metadata": {
    "execution": {
     "iopub.execute_input": "2023-05-11T08:04:34.208449Z",
     "iopub.status.busy": "2023-05-11T08:04:34.207789Z",
     "iopub.status.idle": "2023-05-11T08:04:34.214340Z",
     "shell.execute_reply": "2023-05-11T08:04:34.213466Z"
    },
    "papermill": {
     "duration": 0.015212,
     "end_time": "2023-05-11T08:04:34.216403",
     "exception": false,
     "start_time": "2023-05-11T08:04:34.201191",
     "status": "completed"
    },
    "tags": []
   },
   "outputs": [],
   "source": [
    "unique_targets = np.unique(train_data[\"yield\"])\n",
    "def mattop_post_process(preds):\n",
    "     return np.array([min(unique_targets, key = lambda x: abs(x - pred)) for pred in preds])"
   ]
  },
  {
   "cell_type": "code",
   "execution_count": 7,
   "id": "9ac41b40",
   "metadata": {
    "execution": {
     "iopub.execute_input": "2023-05-11T08:04:34.228260Z",
     "iopub.status.busy": "2023-05-11T08:04:34.227544Z",
     "iopub.status.idle": "2023-05-11T08:04:34.245451Z",
     "shell.execute_reply": "2023-05-11T08:04:34.244458Z"
    },
    "papermill": {
     "duration": 0.026451,
     "end_time": "2023-05-11T08:04:34.247819",
     "exception": false,
     "start_time": "2023-05-11T08:04:34.221368",
     "status": "completed"
    },
    "tags": []
   },
   "outputs": [],
   "source": [
    "data = pd.read_csv('/kaggle/input/wild-blueberry-yield-prediction/wild-blueberry-yield-prediction.csv')\n",
    "data_wild = data.copy()"
   ]
  },
  {
   "cell_type": "code",
   "execution_count": 8,
   "id": "cdec62cf",
   "metadata": {
    "execution": {
     "iopub.execute_input": "2023-05-11T08:04:34.259789Z",
     "iopub.status.busy": "2023-05-11T08:04:34.259219Z",
     "iopub.status.idle": "2023-05-11T08:04:34.264448Z",
     "shell.execute_reply": "2023-05-11T08:04:34.263623Z"
    },
    "papermill": {
     "duration": 0.013671,
     "end_time": "2023-05-11T08:04:34.266545",
     "exception": false,
     "start_time": "2023-05-11T08:04:34.252874",
     "status": "completed"
    },
    "tags": []
   },
   "outputs": [],
   "source": [
    "from flaml.automl.model import LGBMEstimator\n",
    "\n",
    "# customisation to set LGB objective to L1 loss\n",
    "class MyLGBM(LGBMEstimator):\n",
    "    \"\"\"customise objective for l1 loss\"\"\"\n",
    "\n",
    "    def __init__(self, **config):\n",
    "        super().__init__(objective=\"regression_l1\", **config)"
   ]
  },
  {
   "cell_type": "code",
   "execution_count": 9,
   "id": "54ec5467",
   "metadata": {
    "execution": {
     "iopub.execute_input": "2023-05-11T08:04:34.279224Z",
     "iopub.status.busy": "2023-05-11T08:04:34.278432Z",
     "iopub.status.idle": "2023-05-11T08:04:34.292744Z",
     "shell.execute_reply": "2023-05-11T08:04:34.291815Z"
    },
    "papermill": {
     "duration": 0.023455,
     "end_time": "2023-05-11T08:04:34.295262",
     "exception": false,
     "start_time": "2023-05-11T08:04:34.271807",
     "status": "completed"
    },
    "tags": []
   },
   "outputs": [],
   "source": [
    "def fold_mae(y, preds, data_type):\n",
    "    # evaluate against competition training data only\n",
    "    return mean_absolute_error(y[data_type==0], preds[data_type==0])\n",
    "\n",
    "def get_fi(automl, estimator_name, X, y):\n",
    "    # extract permutation feature importance\n",
    "    # from the model.\n",
    "    \n",
    "    fi = pd.DataFrame({\n",
    "        'estimator_name': [],\n",
    "        'Feature': [],\n",
    "        'Importance': []})\n",
    "    \n",
    "    try:\n",
    "        # ensemble - use lgbm\n",
    "        est = automl.model.named_estimators_['lgbm']\n",
    "        imp = permutation_importance(est, X, y)\n",
    "        fi = pd.DataFrame({\n",
    "            'Importance': imp.importances_mean,\n",
    "            'Feature': X.columns})\n",
    "    except:\n",
    "        try:\n",
    "            est = automl.model\n",
    "            imp = permutation_importance(est, X, y)\n",
    "            fi = pd.DataFrame({\n",
    "                'Importance': imp.importances_mean,\n",
    "                'Feature': X.columns})\n",
    "        except:\n",
    "            pass\n",
    "    \n",
    "    if len(fi) > 0:\n",
    "        fi = fi.assign(estimator_name=estimator_name)\n",
    "    \n",
    "    return fi\n",
    "\n",
    "\n",
    "class AutoMLFitter:\n",
    "    # A wrap of the automl call to allow us to\n",
    "    # decrease the time budget for each call\n",
    "    # And keep track of the best parameters found\n",
    "    \n",
    "    def __init__(self, name, time_budget, estimator_list=[], best_config=None, n_folds=10):\n",
    "        self.name = name\n",
    "        self.time_budget = time_budget\n",
    "        self.estimator_list = estimator_list\n",
    "        self.best_config = best_config\n",
    "        self.n_folds = n_folds\n",
    "\n",
    "    def fit_automl(self, random_state, X, y):\n",
    "\n",
    "        automl_settings = {\n",
    "            \"time_budget\": self.time_budget,\n",
    "            \"metric\": 'mae',\n",
    "            \"task\": 'regression',\n",
    "            \"log_file_name\": \"\",\n",
    "            \"ensemble\": False,\n",
    "            \"eval_method\": 'cv',\n",
    "            \"n_splits\": self.n_folds,\n",
    "            \"seed\": random_state,\n",
    "            \"verbose\": 0,\n",
    "            \"estimator_list\": self.estimator_list\n",
    "        }\n",
    "\n",
    "        # time budget is decreased on each fit.\n",
    "        self.time_budget //= 1.5\n",
    "        if self.time_budget < MIN_TIME_BUDGET:\n",
    "            self.time_budget = MIN_TIME_BUDGET\n",
    "\n",
    "        automl = AutoML()\n",
    "        automl.add_learner(learner_name='my_lgbm', learner_class=MyLGBM)\n",
    "        automl_settings[\"estimator_list\"] = ['my_lgbm' ]  # change the estimator list\n",
    "        \n",
    "        automl.fit(X, y, starting_points=self.best_config, **automl_settings)\n",
    "        self.best_config = automl.best_config_per_estimator\n",
    "\n",
    "        return automl"
   ]
  },
  {
   "cell_type": "code",
   "execution_count": 10,
   "id": "734a7399",
   "metadata": {
    "execution": {
     "iopub.execute_input": "2023-05-11T08:04:34.307661Z",
     "iopub.status.busy": "2023-05-11T08:04:34.307079Z",
     "iopub.status.idle": "2023-05-11T08:04:34.324708Z",
     "shell.execute_reply": "2023-05-11T08:04:34.323777Z"
    },
    "papermill": {
     "duration": 0.027205,
     "end_time": "2023-05-11T08:04:34.327596",
     "exception": false,
     "start_time": "2023-05-11T08:04:34.300391",
     "status": "completed"
    },
    "tags": []
   },
   "outputs": [],
   "source": [
    "def fit_nested_automl(model_fitters, random_state, train_data, test_data, features):\n",
    "                               \n",
    "    k_fold = KFold(n_splits=N_OUTER_FOLDS, random_state=random_state, shuffle=True)\n",
    "    \n",
    "    fast_fis = []\n",
    "    oof_metrics = []\n",
    "    test_preds = np.zeros(len(test_data))\n",
    "    oof_preds = np.zeros(len(train_data))\n",
    "    \n",
    "    print('OOF Metric: ', end='')\n",
    "    for train_index, test_index in k_fold.split(train_data, train_data[TARGET_NAME]):\n",
    "        tr, vl = train_data.loc[train_index], train_data.loc[test_index]\n",
    "        \n",
    "        # for each model:\n",
    "        oof_pred = np.zeros(len(vl))\n",
    "        test_pred = np.zeros(len(test_data))\n",
    "        best_loss = 0\n",
    "        \n",
    "        for model_fitter in model_fitters:\n",
    "            \n",
    "            automl = model_fitter.fit_automl(\n",
    "                random_state, \n",
    "                tr.filter(features), \n",
    "                tr[TARGET_NAME].values)\n",
    "        \n",
    "            oof_pred  += automl.predict(vl.filter(features)) / len(model_fitters)\n",
    "            test_pred += automl.predict(test_data.filter(features)) / len(model_fitters)\n",
    "            best_loss += automl.best_loss / (len(model_fitters))\n",
    "        \n",
    "            fast_fi =  get_fi(automl, model_fitter.name, vl.filter(features), vl[TARGET_NAME])\n",
    "            fast_fis.append(fast_fi)\n",
    "        \n",
    "        oof_metric = fold_mae(\n",
    "            vl[TARGET_NAME].values, \n",
    "            oof_pred, \n",
    "            vl['data_type'].values)\n",
    "        \n",
    "        print(f'{oof_metric:4.1f}', end=' ')\n",
    "        \n",
    "        oof_preds[test_index] += oof_pred\n",
    "        test_preds += test_pred / N_OUTER_FOLDS\n",
    "        fast_fis.append(fast_fi)\n",
    "        oof_metrics.append(oof_metric)\n",
    "\n",
    "    return oof_preds, test_preds, fast_fis, oof_metrics\n",
    "\n",
    "\n",
    "def fit(model_fitters, train_data, test_data, features):\n",
    "    test_preds = np.zeros(len(test_data))\n",
    "    oof_preds = np.zeros(len(train_data))\n",
    "    oof_metrics = []\n",
    "    oof_fold_metrics = []\n",
    "    fast_fis = []\n",
    "    for i in range(N_REPEATS): \n",
    "        # fit\n",
    "        oof_pred, test_pred, fast_fi, oof_fold_metric = fit_nested_automl(\n",
    "            model_fitters,\n",
    "            RANDOM_STATE + i,\n",
    "            train_data.sample(frac=1),\n",
    "            test_data,\n",
    "            features)\n",
    "\n",
    "        oof_metric = fold_mae(\n",
    "            train_data[TARGET_NAME].values, \n",
    "            oof_pred, \n",
    "            train_data['data_type'].values)\n",
    "        \n",
    "        oof_metric_pp = fold_mae(\n",
    "            train_data[TARGET_NAME].values, \n",
    "            mattop_post_process(oof_pred), \n",
    "            train_data['data_type'].values)\n",
    "\n",
    "        test_preds += (test_pred) / N_REPEATS\n",
    "        oof_preds += (oof_pred) / N_REPEATS\n",
    "\n",
    "        oof_fold_metrics.extend(oof_fold_metric)\n",
    "        fast_fis.extend(fast_fi)\n",
    "\n",
    "        print(f'| Repeat {i}: {oof_metric:4.1f} mattop postprocessing {oof_metric_pp:4.1f}')\n",
    "        \n",
    "    return oof_preds, test_preds, oof_fold_metrics, fast_fis"
   ]
  },
  {
   "cell_type": "code",
   "execution_count": 11,
   "id": "4b8d0bd3",
   "metadata": {
    "execution": {
     "iopub.execute_input": "2023-05-11T08:04:34.340230Z",
     "iopub.status.busy": "2023-05-11T08:04:34.339758Z",
     "iopub.status.idle": "2023-05-11T08:16:02.148147Z",
     "shell.execute_reply": "2023-05-11T08:16:02.147009Z"
    },
    "papermill": {
     "duration": 687.830836,
     "end_time": "2023-05-11T08:16:02.163657",
     "exception": false,
     "start_time": "2023-05-11T08:04:34.332821",
     "status": "completed"
    },
    "tags": []
   },
   "outputs": [
    {
     "name": "stdout",
     "output_type": "stream",
     "text": [
      "{'my_lgbm': {'n_estimators': 265, 'num_leaves': 93, 'min_child_samples': 20, 'learning_rate': 0.05533790147941807, 'log_max_bin': 10, 'colsample_bytree': 0.8809128870084636, 'reg_alpha': 0.0009765625, 'reg_lambda': 0.01558940804817417}}\n",
      "OOF Metric: 355.9 331.0 328.2 328.8 316.1 340.5 346.5 355.5 353.1 | Repeat 0: 339.5 mattop postprocessing 339.3\n",
      "OOF Metric: 350.5 337.4 337.5 333.9 358.8 340.1 343.2 343.6 316.0 | Repeat 1: 340.1 mattop postprocessing 340.0\n",
      "OOF Metric: 345.3 348.1 338.4 334.4 347.8 333.1 341.4 330.5 334.1 | Repeat 2: 339.3 mattop postprocessing 339.2\n",
      "OOF Metric: 324.7 323.3 342.6 351.1 335.5 346.1 335.9 351.0 343.8 | Repeat 3: 339.3 mattop postprocessing 339.1\n",
      "OOF Metric: 332.0 346.5 337.2 332.4 331.0 347.1 339.8 353.9 336.2 | Repeat 4: 339.6 mattop postprocessing 339.5\n",
      "OOF Metric: 352.0 338.9 356.6 324.9 340.6 346.9 344.5 326.1 328.2 | Repeat 5: 339.9 mattop postprocessing 339.8\n",
      "OOF Metric: 315.4 345.8 341.1 332.1 345.7 353.6 342.1 340.4 339.7 | Repeat 6: 339.6 mattop postprocessing 339.4\n",
      "OOF Metric: 351.4 336.8 344.4 328.4 324.5 345.4 347.6 335.9 344.8 | Repeat 7: 339.9 mattop postprocessing 339.8\n",
      "OOF Metric: 340.3 322.9 332.8 327.9 365.4 346.8 340.3 347.1 325.2 | Repeat 8: 338.8 mattop postprocessing 338.6\n",
      "OOF Metric: 345.9 339.4 339.9 333.4 344.4 352.4 335.4 331.4 329.6 | Repeat 9: 339.1 mattop postprocessing 339.0\n"
     ]
    }
   ],
   "source": [
    "tr = train_data.sample(frac=1, random_state=RANDOM_STATE)\n",
    "\n",
    "model_fitter = AutoMLFitter(\n",
    "    name='model',\n",
    "    time_budget= FIRST_TIME_BUDGET, \n",
    "    n_folds=5) # nested CV: 8/9 * 9/10 = 80%, equivalent to 5 folds\n",
    "\n",
    "# here's one I made earlier:\n",
    "# running the fitter with a longer budget will discover these \n",
    "# hyperparameters:\n",
    "model_fitter.best_config = {\n",
    "    'my_lgbm': {'n_estimators': 265, 'num_leaves': 93, 'min_child_samples': 20, \n",
    "                'learning_rate': 0.05533790147941807, 'log_max_bin': 10, \n",
    "                'colsample_bytree': 0.8809128870084636, 'reg_alpha': 0.0009765625, \n",
    "                'reg_lambda': 0.015589408048174165}}\n",
    "\n",
    "model_fitter.fit_automl(\n",
    "    RANDOM_STATE, \n",
    "    tr.filter(features), \n",
    "    tr[TARGET_NAME].values)\n",
    "\n",
    "model_fitter.time_budget = MIN_TIME_BUDGET\n",
    "model_fitter.n_folds = N_FOLDS\n",
    "\n",
    "print(model_fitter.best_config)\n",
    "\n",
    "models = [model_fitter]\n",
    "# model fit & output\n",
    "oof_preds, test_preds, oof_fold_metrics, fast_fis = fit(models, train_data, test_data, features)"
   ]
  },
  {
   "cell_type": "markdown",
   "id": "0dc0a36d",
   "metadata": {
    "papermill": {
     "duration": 0.013147,
     "end_time": "2023-05-11T08:16:02.190197",
     "exception": false,
     "start_time": "2023-05-11T08:16:02.177050",
     "status": "completed"
    },
    "tags": []
   },
   "source": [
    "# **Submission**"
   ]
  },
  {
   "cell_type": "code",
   "execution_count": 12,
   "id": "7df4a4d7",
   "metadata": {
    "execution": {
     "iopub.execute_input": "2023-05-11T08:16:02.219205Z",
     "iopub.status.busy": "2023-05-11T08:16:02.218806Z",
     "iopub.status.idle": "2023-05-11T08:16:09.655149Z",
     "shell.execute_reply": "2023-05-11T08:16:09.653818Z"
    },
    "papermill": {
     "duration": 7.454271,
     "end_time": "2023-05-11T08:16:09.657917",
     "exception": false,
     "start_time": "2023-05-11T08:16:02.203646",
     "status": "completed"
    },
    "tags": []
   },
   "outputs": [],
   "source": [
    "submission2 = f'submission2.csv'\n",
    "\n",
    "(test_data\n",
    "    .assign(**{TARGET_NAME: mattop_post_process(test_preds)})\n",
    "    .to_csv(submission2, columns=['id', TARGET_NAME], index=False))\n",
    "data_wild.to_csv('submission.csv', index=False) #Score: 337.3692"
   ]
  }
 ],
 "metadata": {
  "kernelspec": {
   "display_name": "Python 3",
   "language": "python",
   "name": "python3"
  },
  "language_info": {
   "codemirror_mode": {
    "name": "ipython",
    "version": 3
   },
   "file_extension": ".py",
   "mimetype": "text/x-python",
   "name": "python",
   "nbconvert_exporter": "python",
   "pygments_lexer": "ipython3",
   "version": "3.10.10"
  },
  "papermill": {
   "default_parameters": {},
   "duration": 731.950212,
   "end_time": "2023-05-11T08:16:11.097395",
   "environment_variables": {},
   "exception": null,
   "input_path": "__notebook__.ipynb",
   "output_path": "__notebook__.ipynb",
   "parameters": {},
   "start_time": "2023-05-11T08:03:59.147183",
   "version": "2.4.0"
  }
 },
 "nbformat": 4,
 "nbformat_minor": 5
}
